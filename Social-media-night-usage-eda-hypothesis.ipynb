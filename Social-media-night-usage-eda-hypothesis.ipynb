{
 "cells": [
  {
   "cell_type": "code",
   "execution_count": 1,
   "id": "d85f2168-6465-4f33-8acf-50ec9c9c71a9",
   "metadata": {},
   "outputs": [],
   "source": [
    "import pandas as pd\n",
    "import matplotlib.pyplot as plt\n",
    "import seaborn as sns\n",
    "from scipy import stats\n",
    "import numpy as np"
   ]
  },
  {
   "cell_type": "code",
   "execution_count": 2,
   "id": "04c1f10e-dfc4-458d-88ac-52225b6ad938",
   "metadata": {},
   "outputs": [
    {
     "data": {
      "text/html": [
       "<div>\n",
       "<style scoped>\n",
       "    .dataframe tbody tr th:only-of-type {\n",
       "        vertical-align: middle;\n",
       "    }\n",
       "\n",
       "    .dataframe tbody tr th {\n",
       "        vertical-align: top;\n",
       "    }\n",
       "\n",
       "    .dataframe thead th {\n",
       "        text-align: right;\n",
       "    }\n",
       "</style>\n",
       "<table border=\"1\" class=\"dataframe\">\n",
       "  <thead>\n",
       "    <tr style=\"text-align: right;\">\n",
       "      <th></th>\n",
       "      <th>Timestamp</th>\n",
       "      <th>Age</th>\n",
       "      <th>Gender</th>\n",
       "      <th>Social media platform</th>\n",
       "      <th>Average time</th>\n",
       "      <th>Social Media Messaging Frequency</th>\n",
       "      <th>Perceived Social Isolation</th>\n",
       "      <th>Messaging Reducing Isolation</th>\n",
       "      <th>Content Type Affecting Body Image</th>\n",
       "      <th>Social Media Pressure on Appearance</th>\n",
       "      <th>Sentiments Regarding Body Image Content</th>\n",
       "      <th>Nighttime Platform Popularity</th>\n",
       "      <th>Nighttime Social Media Duration</th>\n",
       "      <th>Effect on Sleep Quality</th>\n",
       "      <th>Social Media Impact on Well-Being</th>\n",
       "      <th>Social Media Stress Frequency</th>\n",
       "      <th>Social Media Comparison Rate</th>\n",
       "    </tr>\n",
       "  </thead>\n",
       "  <tbody>\n",
       "    <tr>\n",
       "      <th>0</th>\n",
       "      <td>2024-09-16 23:49:56.743</td>\n",
       "      <td>17-18</td>\n",
       "      <td>Male</td>\n",
       "      <td>Instagram, YouTube, WhatsApp</td>\n",
       "      <td>1-2 hours</td>\n",
       "      <td>Often</td>\n",
       "      <td>Rarely</td>\n",
       "      <td>Agree</td>\n",
       "      <td>Diet and nutrition content</td>\n",
       "      <td>Neutral</td>\n",
       "      <td>Positive</td>\n",
       "      <td>YouTube</td>\n",
       "      <td>1 – 2 hours</td>\n",
       "      <td>Often</td>\n",
       "      <td>A little</td>\n",
       "      <td>Never</td>\n",
       "      <td>Sometimes</td>\n",
       "    </tr>\n",
       "    <tr>\n",
       "      <th>1</th>\n",
       "      <td>2024-09-16 23:50:25.449</td>\n",
       "      <td>19-20</td>\n",
       "      <td>Female</td>\n",
       "      <td>Twitter (X), LinkedIn, YouTube, WhatsApp</td>\n",
       "      <td>1-2 hours</td>\n",
       "      <td>Often</td>\n",
       "      <td>Never</td>\n",
       "      <td>Neutral</td>\n",
       "      <td>NaN</td>\n",
       "      <td>Strongly disagree</td>\n",
       "      <td>Positive</td>\n",
       "      <td>YouTube</td>\n",
       "      <td>30 minutes – 1 hour</td>\n",
       "      <td>Rarely</td>\n",
       "      <td>A little</td>\n",
       "      <td>Sometimes</td>\n",
       "      <td>Rarely</td>\n",
       "    </tr>\n",
       "    <tr>\n",
       "      <th>2</th>\n",
       "      <td>2024-09-16 23:54:18.917</td>\n",
       "      <td>21-22</td>\n",
       "      <td>Male</td>\n",
       "      <td>Instagram, Twitter (X), Snapchat, LinkedIn, Yo...</td>\n",
       "      <td>2-3hours</td>\n",
       "      <td>Always</td>\n",
       "      <td>Rarely</td>\n",
       "      <td>Agree</td>\n",
       "      <td>Diet and nutrition content</td>\n",
       "      <td>Neutral</td>\n",
       "      <td>Positive</td>\n",
       "      <td>Instagram, YouTube, Whatsapp</td>\n",
       "      <td>30 minutes – 1 hour</td>\n",
       "      <td>Sometimes</td>\n",
       "      <td>A little</td>\n",
       "      <td>Rarely</td>\n",
       "      <td>Sometimes</td>\n",
       "    </tr>\n",
       "    <tr>\n",
       "      <th>3</th>\n",
       "      <td>2024-09-16 23:58:42.103</td>\n",
       "      <td>21-22</td>\n",
       "      <td>Male</td>\n",
       "      <td>Facebook, Instagram, Twitter (X), Snapchat, Li...</td>\n",
       "      <td>2-3hours</td>\n",
       "      <td>Sometimes</td>\n",
       "      <td>Frequently</td>\n",
       "      <td>Neutral</td>\n",
       "      <td>Photos &amp; videos of models or influencers</td>\n",
       "      <td>Neutral</td>\n",
       "      <td>Neutral</td>\n",
       "      <td>Facebook, Instagram, YouTube, Whatsapp, Snapchat</td>\n",
       "      <td>30 minutes – 1 hour</td>\n",
       "      <td>Sometimes</td>\n",
       "      <td>Somewhat</td>\n",
       "      <td>Sometimes</td>\n",
       "      <td>Sometimes</td>\n",
       "    </tr>\n",
       "    <tr>\n",
       "      <th>4</th>\n",
       "      <td>2024-09-17 00:05:23.828</td>\n",
       "      <td>19-20</td>\n",
       "      <td>Male</td>\n",
       "      <td>Instagram, YouTube, WhatsApp</td>\n",
       "      <td>2-3hours</td>\n",
       "      <td>Often</td>\n",
       "      <td>Occasionally</td>\n",
       "      <td>Agree</td>\n",
       "      <td>None</td>\n",
       "      <td>Strongly disagree</td>\n",
       "      <td>Neutral</td>\n",
       "      <td>Instagram, Whatsapp</td>\n",
       "      <td>Less than 30 minutes</td>\n",
       "      <td>Rarely</td>\n",
       "      <td>Quite a bit</td>\n",
       "      <td>Often</td>\n",
       "      <td>Often</td>\n",
       "    </tr>\n",
       "  </tbody>\n",
       "</table>\n",
       "</div>"
      ],
      "text/plain": [
       "                Timestamp    Age  Gender  \\\n",
       "0 2024-09-16 23:49:56.743  17-18    Male   \n",
       "1 2024-09-16 23:50:25.449  19-20  Female   \n",
       "2 2024-09-16 23:54:18.917  21-22    Male   \n",
       "3 2024-09-16 23:58:42.103  21-22    Male   \n",
       "4 2024-09-17 00:05:23.828  19-20    Male   \n",
       "\n",
       "                               Social media platform Average time  \\\n",
       "0                       Instagram, YouTube, WhatsApp    1-2 hours   \n",
       "1           Twitter (X), LinkedIn, YouTube, WhatsApp    1-2 hours   \n",
       "2  Instagram, Twitter (X), Snapchat, LinkedIn, Yo...     2-3hours   \n",
       "3  Facebook, Instagram, Twitter (X), Snapchat, Li...     2-3hours   \n",
       "4                       Instagram, YouTube, WhatsApp     2-3hours   \n",
       "\n",
       "  Social Media Messaging Frequency Perceived Social Isolation  \\\n",
       "0                            Often                     Rarely   \n",
       "1                            Often                      Never   \n",
       "2                           Always                     Rarely   \n",
       "3                        Sometimes                 Frequently   \n",
       "4                            Often               Occasionally   \n",
       "\n",
       "  Messaging Reducing Isolation         Content Type Affecting Body Image  \\\n",
       "0                        Agree                Diet and nutrition content   \n",
       "1                      Neutral                                       NaN   \n",
       "2                        Agree                Diet and nutrition content   \n",
       "3                      Neutral  Photos & videos of models or influencers   \n",
       "4                        Agree                                     None    \n",
       "\n",
       "  Social Media Pressure on Appearance Sentiments Regarding Body Image Content  \\\n",
       "0                             Neutral                                Positive   \n",
       "1                   Strongly disagree                                Positive   \n",
       "2                             Neutral                                Positive   \n",
       "3                             Neutral                                 Neutral   \n",
       "4                   Strongly disagree                                 Neutral   \n",
       "\n",
       "                      Nighttime Platform Popularity  \\\n",
       "0                                           YouTube   \n",
       "1                                           YouTube   \n",
       "2                      Instagram, YouTube, Whatsapp   \n",
       "3  Facebook, Instagram, YouTube, Whatsapp, Snapchat   \n",
       "4                               Instagram, Whatsapp   \n",
       "\n",
       "  Nighttime Social Media Duration Effect on Sleep Quality  \\\n",
       "0                     1 – 2 hours                   Often   \n",
       "1             30 minutes – 1 hour                  Rarely   \n",
       "2             30 minutes – 1 hour               Sometimes   \n",
       "3             30 minutes – 1 hour               Sometimes   \n",
       "4            Less than 30 minutes                  Rarely   \n",
       "\n",
       "  Social Media Impact on Well-Being Social Media Stress Frequency  \\\n",
       "0                          A little                         Never   \n",
       "1                          A little                     Sometimes   \n",
       "2                          A little                        Rarely   \n",
       "3                          Somewhat                     Sometimes   \n",
       "4                       Quite a bit                         Often   \n",
       "\n",
       "  Social Media Comparison Rate  \n",
       "0                    Sometimes  \n",
       "1                       Rarely  \n",
       "2                    Sometimes  \n",
       "3                    Sometimes  \n",
       "4                        Often  "
      ]
     },
     "execution_count": 2,
     "metadata": {},
     "output_type": "execute_result"
    }
   ],
   "source": [
    "#reading the file\n",
    "df=pd.read_excel(\"Impact of social media on mental health  (Responses).xlsx\")\n",
    "df.head()"
   ]
  },
  {
   "cell_type": "code",
   "execution_count": 3,
   "id": "7f50e84e-c90d-4f47-934d-d7bbbeb9d302",
   "metadata": {},
   "outputs": [
    {
     "name": "stdout",
     "output_type": "stream",
     "text": [
      "<class 'pandas.core.frame.DataFrame'>\n",
      "RangeIndex: 67 entries, 0 to 66\n",
      "Data columns (total 17 columns):\n",
      " #   Column                                   Non-Null Count  Dtype         \n",
      "---  ------                                   --------------  -----         \n",
      " 0   Timestamp                                67 non-null     datetime64[ns]\n",
      " 1   Age                                      67 non-null     object        \n",
      " 2   Gender                                   67 non-null     object        \n",
      " 3   Social media platform                    67 non-null     object        \n",
      " 4   Average time                             67 non-null     object        \n",
      " 5   Social Media Messaging Frequency         67 non-null     object        \n",
      " 6   Perceived Social Isolation               67 non-null     object        \n",
      " 7   Messaging Reducing Isolation             67 non-null     object        \n",
      " 8   Content Type Affecting Body Image        65 non-null     object        \n",
      " 9   Social Media Pressure on Appearance      67 non-null     object        \n",
      " 10  Sentiments Regarding Body Image Content  67 non-null     object        \n",
      " 11  Nighttime Platform Popularity            67 non-null     object        \n",
      " 12  Nighttime Social Media Duration          67 non-null     object        \n",
      " 13  Effect on Sleep Quality                  67 non-null     object        \n",
      " 14  Social Media Impact on Well-Being        67 non-null     object        \n",
      " 15  Social Media Stress Frequency            67 non-null     object        \n",
      " 16  Social Media Comparison Rate             67 non-null     object        \n",
      "dtypes: datetime64[ns](1), object(16)\n",
      "memory usage: 9.0+ KB\n"
     ]
    }
   ],
   "source": [
    "df.info()"
   ]
  },
  {
   "cell_type": "code",
   "execution_count": 4,
   "id": "1f3d8556-1868-44b2-96bb-aa8c1851060a",
   "metadata": {},
   "outputs": [
    {
     "data": {
      "text/plain": [
       "Timestamp                                  0\n",
       "Age                                        0\n",
       "Gender                                     0\n",
       "Social media platform                      0\n",
       "Average time                               0\n",
       "Social Media Messaging Frequency           0\n",
       "Perceived Social Isolation                 0\n",
       "Messaging Reducing Isolation               0\n",
       "Content Type Affecting Body Image          2\n",
       "Social Media Pressure on Appearance        0\n",
       "Sentiments Regarding Body Image Content    0\n",
       "Nighttime Platform Popularity              0\n",
       "Nighttime Social Media Duration            0\n",
       "Effect on Sleep Quality                    0\n",
       "Social Media Impact on Well-Being          0\n",
       "Social Media Stress Frequency              0\n",
       "Social Media Comparison Rate               0\n",
       "dtype: int64"
      ]
     },
     "execution_count": 4,
     "metadata": {},
     "output_type": "execute_result"
    }
   ],
   "source": [
    "df.isnull().sum()"
   ]
  },
  {
   "cell_type": "code",
   "execution_count": 5,
   "id": "38366188-3351-430b-b36f-37a5f6e024a5",
   "metadata": {},
   "outputs": [
    {
     "data": {
      "text/html": [
       "<div>\n",
       "<style scoped>\n",
       "    .dataframe tbody tr th:only-of-type {\n",
       "        vertical-align: middle;\n",
       "    }\n",
       "\n",
       "    .dataframe tbody tr th {\n",
       "        vertical-align: top;\n",
       "    }\n",
       "\n",
       "    .dataframe thead th {\n",
       "        text-align: right;\n",
       "    }\n",
       "</style>\n",
       "<table border=\"1\" class=\"dataframe\">\n",
       "  <thead>\n",
       "    <tr style=\"text-align: right;\">\n",
       "      <th></th>\n",
       "      <th>Timestamp</th>\n",
       "    </tr>\n",
       "  </thead>\n",
       "  <tbody>\n",
       "    <tr>\n",
       "      <th>count</th>\n",
       "      <td>67</td>\n",
       "    </tr>\n",
       "    <tr>\n",
       "      <th>mean</th>\n",
       "      <td>2024-09-23 09:32:24.395044864</td>\n",
       "    </tr>\n",
       "    <tr>\n",
       "      <th>min</th>\n",
       "      <td>2024-09-16 23:49:56.743000</td>\n",
       "    </tr>\n",
       "    <tr>\n",
       "      <th>25%</th>\n",
       "      <td>2024-09-17 20:44:17.211500032</td>\n",
       "    </tr>\n",
       "    <tr>\n",
       "      <th>50%</th>\n",
       "      <td>2024-09-20 23:21:02.390000128</td>\n",
       "    </tr>\n",
       "    <tr>\n",
       "      <th>75%</th>\n",
       "      <td>2024-10-01 21:08:23.886999808</td>\n",
       "    </tr>\n",
       "    <tr>\n",
       "      <th>max</th>\n",
       "      <td>2024-10-02 21:13:13.264000</td>\n",
       "    </tr>\n",
       "  </tbody>\n",
       "</table>\n",
       "</div>"
      ],
      "text/plain": [
       "                           Timestamp\n",
       "count                             67\n",
       "mean   2024-09-23 09:32:24.395044864\n",
       "min       2024-09-16 23:49:56.743000\n",
       "25%    2024-09-17 20:44:17.211500032\n",
       "50%    2024-09-20 23:21:02.390000128\n",
       "75%    2024-10-01 21:08:23.886999808\n",
       "max       2024-10-02 21:13:13.264000"
      ]
     },
     "execution_count": 5,
     "metadata": {},
     "output_type": "execute_result"
    }
   ],
   "source": [
    "df.describe()"
   ]
  },
  {
   "cell_type": "code",
   "execution_count": 6,
   "id": "62eeedd3-7606-457c-b101-0976c5dc7deb",
   "metadata": {},
   "outputs": [
    {
     "data": {
      "text/plain": [
       "array(['1 – 2 hours', '30 minutes – 1 hour', 'Less than 30 minutes',\n",
       "       'More than 2 hours'], dtype=object)"
      ]
     },
     "execution_count": 6,
     "metadata": {},
     "output_type": "execute_result"
    }
   ],
   "source": [
    "#printing unique values in nighttime social media duration\n",
    "df[\"Nighttime Social Media Duration\"].unique()"
   ]
  },
  {
   "cell_type": "code",
   "execution_count": 7,
   "id": "7749a402-1f32-41e4-a1d6-302bc2a3f802",
   "metadata": {},
   "outputs": [
    {
     "data": {
      "text/plain": [
       "array(['Often', 'Rarely', 'Sometimes', 'Always', 'Never'], dtype=object)"
      ]
     },
     "execution_count": 7,
     "metadata": {},
     "output_type": "execute_result"
    }
   ],
   "source": [
    "df[\"Effect on Sleep Quality\"].unique()"
   ]
  },
  {
   "cell_type": "code",
   "execution_count": 16,
   "id": "3c0cc244-45b1-4160-9424-0f4c0705682a",
   "metadata": {},
   "outputs": [
    {
     "name": "stdout",
     "output_type": "stream",
     "text": [
      "Correlation Matrix:\n",
      "                                         Nighttime Social Media Duration Encoded  \\\n",
      "Nighttime Social Media Duration Encoded                                 1.000000   \n",
      "Effect on Sleep Quality Encoded                                        -0.245308   \n",
      "\n",
      "                                         Effect on Sleep Quality Encoded  \n",
      "Nighttime Social Media Duration Encoded                        -0.245308  \n",
      "Effect on Sleep Quality Encoded                                 1.000000  \n"
     ]
    }
   ],
   "source": [
    "duration_order = ['Less than 30 minutes', '30 minutes \\u2013 1 hour', '1 \\u2013 2 hours', 'More than 2 hours']\n",
    "df['Nighttime Social Media Duration Encoded'] = pd.Categorical(df['Nighttime Social Media Duration'], categories=duration_order, ordered=True)\n",
    "df['Nighttime Social Media Duration Encoded'] = df['Nighttime Social Media Duration Encoded'].cat.codes\n",
    "\n",
    "# Encode 'Perceived Sleep Quality'\n",
    "quality_order = ['Never', 'Rarely', 'Sometimes', 'Often', 'Always']\n",
    "df['Effect on Sleep Quality Encoded'] = pd.Categorical(df['Effect on Sleep Quality'], categories=quality_order, ordered=True)\n",
    "df['Effect on Sleep Quality Encoded'] = df['Effect on Sleep Quality Encoded'].cat.codes\n",
    "\n",
    "# Create a correlation matrix for relevant variables\n",
    "correlation_matrix = df[[\"Nighttime Social Media Duration Encoded\", \"Effect on Sleep Quality Encoded\"]].corr()\n",
    "print(\"\\\n",
    "Correlation Matrix:\")\n",
    "print(correlation_matrix)"
   ]
  },
  {
   "cell_type": "markdown",
   "id": "362ffa4e-4f26-4886-992b-afb8973fb916",
   "metadata": {},
   "source": [
    "The correlation matrix shows a negative correlation of -0.245308 between nighttime social media duration and perceived sleep quality. \n",
    "This suggests that as nighttime social media use increases, sleep quality tends to decrease slightly."
   ]
  },
  {
   "cell_type": "code",
   "execution_count": 10,
   "id": "561b75ed-d604-44c8-bade-bd90f8b6165c",
   "metadata": {},
   "outputs": [
    {
     "data": {
      "image/png": "[encoded data removed]",
      "text/plain": [
       "<Figure size 1000x600 with 1 Axes>"
      ]
     },
     "metadata": {},
     "output_type": "display_data"
    }
   ],
   "source": [
    "# Visualize the relationship between nighttime social media use and sleep quality\n",
    "plt.figure(figsize=(10, 6))\n",
    "sns.boxplot(x=\"Nighttime Social Media Duration\", y=\"Effect on Sleep Quality Encoded\", data=df, order=duration_order)\n",
    "plt.title(\"Relationship between Nighttime Social Media Use and Sleep Quality\")\n",
    "plt.xlabel(\"Nighttime Social Media Duration\")\n",
    "plt.ylabel(\"Effect on Sleep Quality (Encoded)\")\n",
    "plt.xticks(rotation=45)\n",
    "plt.tight_layout()\n",
    "plt.show()"
   ]
  },
  {
   "cell_type": "code",
   "execution_count": 15,
   "id": "1f65e4d1-c9d1-40d2-8fa0-b7cecc178178",
   "metadata": {},
   "outputs": [
    {
     "data": {
      "image/png": "[encoded data removed]",
      "text/plain": [
       "<Figure size 1000x600 with 1 Axes>"
      ]
     },
     "metadata": {},
     "output_type": "display_data"
    }
   ],
   "source": [
    "import matplotlib.pyplot as plt\n",
    "import seaborn as sns\n",
    "\n",
    "# Clean and prepare data for analysis\n",
    "# Renaming columns for ease of use\n",
    "df_cleaned = df[['Nighttime Social Media Duration', 'Effect on Sleep Quality']].copy()\n",
    "\n",
    "# Cleaning the 'Nighttime Social Media Duration' column by standardizing durations\n",
    "df_cleaned['Nighttime Social Media Duration'] = df_cleaned['Nighttime Social Media Duration'].replace({\n",
    "    'Less than 30 minutes': '<30 min', \n",
    "    '30 minutes – 1 hour': '30min-1h',\n",
    "    '1 – 2 hours': '1-2h',\n",
    "    '2 – 3hours': '2-3h'\n",
    "})\n",
    "\n",
    "# Visualizing the relationship between 'Nighttime Social Media Duration' and 'Perceived Sleep Quality'\n",
    "plt.figure(figsize=(10, 6))\n",
    "sns.countplot(data=df_cleaned, x='Nighttime Social Media Duration', hue='Effect on Sleep Quality')\n",
    "plt.title('Relationship between Nighttime Social Media Duration and Perceived Sleep Quality')\n",
    "plt.xlabel('Nighttime Social Media Duration')\n",
    "plt.ylabel('Count')\n",
    "plt.xticks(rotation=45)\n",
    "plt.legend(title='Effect on Sleep Quality', bbox_to_anchor=(1.05, 1), loc='upper left')\n",
    "plt.tight_layout()\n",
    "\n",
    "plt.show()"
   ]
  },
  {
   "cell_type": "code",
   "execution_count": 11,
   "id": "e4d5c73e-882d-470d-8d79-6df3392b9706",
   "metadata": {},
   "outputs": [
    {
     "name": "stdout",
     "output_type": "stream",
     "text": [
      "Spearman's rank correlation coefficient: -0.2811995222627143\n",
      "P-value: 0.02115946739741778\n"
     ]
    }
   ],
   "source": [
    "#PERFORM SPEARMANS RANK CORRELATION TEST\n",
    "correlation, p_value = stats.spearmanr(df['Nighttime Social Media Duration Encoded'], df['Effect on Sleep Quality Encoded'])\n",
    "print(f\"\\\n",
    "Spearman's rank correlation coefficient: {correlation}\")\n",
    "print(f\"P-value: {p_value}\")"
   ]
  },
  {
   "cell_type": "code",
   "execution_count": 12,
   "id": "ad9315ad-fb9d-47e7-bcd1-7004e0666119",
   "metadata": {},
   "outputs": [
    {
     "name": "stdout",
     "output_type": "stream",
     "text": [
      "Kruskal-Wallis H-test:\n",
      "H-statistic:7.025378789754138\n",
      "P-value: 0.07109324823504636\n"
     ]
    }
   ],
   "source": [
    "#PERFORM KRUSKAL-WALLIS IS H-TEST\n",
    "h_statistic,p_value_kw = stats.kruskal(*[group['Effect on Sleep Quality Encoded'].values\n",
    "                                         for name,group in df.groupby('Nighttime Social Media Duration')])\n",
    "print(f\"\\\n",
    "Kruskal-Wallis H-test:\")\n",
    "print(f\"H-statistic:{h_statistic}\")\n",
    "print(f\"P-value: {p_value_kw}\")\n"
   ]
  },
  {
   "cell_type": "code",
   "execution_count": 13,
   "id": "125d5f81-1fb3-4960-9d85-e2a7ee82609b",
   "metadata": {},
   "outputs": [
    {
     "name": "stdout",
     "output_type": "stream",
     "text": [
      "Contingency Table:\n",
      "Effect on Sleep Quality          Always  Never  Often  Rarely  Sometimes\n",
      "Nighttime Social Media Duration                                         \n",
      "1 – 2 hours                           0      1      4       5          5\n",
      "30 minutes – 1 hour                   3      3      3       5         12\n",
      "Less than 30 minutes                  6      1      5       1          7\n",
      "More than 2 hours                     2      1      0       2          1\n",
      "Chi-Square Test Results:\n",
      "Chi-Square Statistic: 15.590686958340802\n",
      "P-value: 0.21071053545005283\n",
      "Degrees of Freedom: 12\n"
     ]
    }
   ],
   "source": [
    "#PERFORM CHI SQUARE TESTING\n",
    "import pandas as pd\n",
    "from scipy import stats\n",
    "\n",
    "# Create a contingency table for the Chi-Square tes\n",
    "table = pd.crosstab(df['Nighttime Social Media Duration'], df['Effect on Sleep Quality'])\n",
    "\n",
    "# Perform the Chi-Square test\n",
    "chi2_stat, p_val, dof, ex = stats.chi2_contingency(table)\n",
    "\n",
    "# Display the results\n",
    "print(\"Contingency Table:\")\n",
    "print(table)\n",
    "print(\"\\\n",
    "Chi-Square Test Results:\")\n",
    "print(\"Chi-Square Statistic:\", chi2_stat)\n",
    "print(\"P-value:\", p_val)\n",
    "print(\"Degrees of Freedom:\", dof)"
   ]
  },
  {
   "cell_type": "code",
   "execution_count": null,
   "id": "35fa5dc7-1967-467c-ac08-7952c220e80c",
   "metadata": {},
   "outputs": [],
   "source": []
  }
 ],
 "metadata": {
  "kernelspec": {
   "display_name": "Python 3 (ipykernel)",
   "language": "python",
   "name": "python3"
  },
  "language_info": {
   "codemirror_mode": {
    "name": "ipython",
    "version": 3
   },
   "file_extension": ".py",
   "mimetype": "text/x-python",
   "name": "python",
   "nbconvert_exporter": "python",
   "pygments_lexer": "ipython3",
   "version": "3.12.4"
  }
 },
 "nbformat": 4,
 "nbformat_minor": 5
}
